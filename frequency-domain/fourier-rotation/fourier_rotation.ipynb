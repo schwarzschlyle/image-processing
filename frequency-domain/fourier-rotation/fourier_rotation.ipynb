{
 "cells": [
  {
   "cell_type": "markdown",
   "id": "c71c4e25-011d-4f51-b0e0-92c1048d6c4a",
   "metadata": {},
   "source": [
    "# Basic Synthesis"
   ]
  },
  {
   "cell_type": "code",
   "execution_count": 43,
   "id": "0d07a088-b9fe-4d16-ba51-d68670ed44d2",
   "metadata": {
    "tags": []
   },
   "outputs": [
    {
     "data": {
      "image/png": "[encoded data removed]",
      "text/plain": [
       "<Figure size 432x288 with 1 Axes>"
      ]
     },
     "metadata": {
      "needs_background": "light"
     },
     "output_type": "display_data"
    }
   ],
   "source": [
    "import numpy as np\n",
    "import matplotlib.pyplot as plt\n",
    "\n",
    "nx = 100\n",
    "ny = 100\n",
    "x = np.linspace(-1, 1, nx)\n",
    "y = np.linspace(-1, 1, ny)\n",
    "X, Y = np.meshgrid(x, y)\n",
    "f = 4 # frequency – you may change this later.\n",
    "Z = np.sin(2*np.pi*f*X)\n",
    "\n",
    "\n",
    "plt.imshow(Z, cmap='gray')\n",
    "plt.show()\n"
   ]
  },
  {
   "cell_type": "markdown",
   "id": "265f67cf-9770-4561-afd9-a5b79541650b",
   "metadata": {},
   "source": [
    "# Basic FFT"
   ]
  },
  {
   "cell_type": "code",
   "execution_count": 52,
   "id": "1dd4ecf4-70d3-4b48-93f0-1c52660e87af",
   "metadata": {},
   "outputs": [
    {
     "data": {
      "image/png": "[encoded data removed]",
      "text/plain": [
       "<Figure size 432x288 with 1 Axes>"
      ]
     },
     "metadata": {
      "needs_background": "light"
     },
     "output_type": "display_data"
    },
    {
     "data": {
      "image/png": "[encoded data removed]",
      "text/plain": [
       "<Figure size 432x288 with 1 Axes>"
      ]
     },
     "metadata": {
      "needs_background": "light"
     },
     "output_type": "display_data"
    }
   ],
   "source": [
    "import numpy as np\n",
    "import matplotlib.pyplot as plt\n",
    "\n",
    "nx = 100\n",
    "ny = 100\n",
    "x = np.linspace(-1, 1, nx)\n",
    "y = np.linspace(-1, 1, ny)\n",
    "X, Y = np.meshgrid(x, y)\n",
    "f = 4 # frequency – you may change this later.\n",
    "Z =  np.sin(2*np.pi*f*X)\n",
    "\n",
    "plt.imshow(Z, cmap='gray')\n",
    "plt.show()\n",
    "\n",
    "Z_fft = np.fft.fft2(Z)\n",
    "Z_fft_shifted = np.fft.fftshift(Z_fft)\n",
    "Z_fft_mag = np.abs(Z_fft_shifted)\n",
    "\n",
    "plt.imshow(Z_fft_mag, cmap='gray')\n",
    "plt.show()"
   ]
  },
  {
   "cell_type": "markdown",
   "id": "7b8f333f-a424-4ade-a386-1d3cb5d832d3",
   "metadata": {},
   "source": [
    "# GIF Rendering"
   ]
  },
  {
   "cell_type": "code",
   "execution_count": 53,
   "id": "eb00a34b-aa3e-4b43-a3c0-040939638720",
   "metadata": {},
   "outputs": [
    {
     "name": "stdout",
     "output_type": "stream",
     "text": [
      "0\n",
      "0.3141592653589793\n",
      "0.6283185307179586\n",
      "0.9424777960769379\n",
      "1.2566370614359172\n",
      "1.5707963267948966\n",
      "1.8849555921538759\n",
      "2.199114857512855\n",
      "2.5132741228718345\n",
      "2.827433388230814\n",
      "3.141592653589793\n",
      "3.4557519189487724\n",
      "3.7699111843077517\n",
      "4.084070449666731\n",
      "4.39822971502571\n",
      "4.71238898038469\n",
      "5.026548245743669\n",
      "5.340707511102648\n",
      "5.654866776461628\n",
      "5.969026041820607\n",
      "6.283185307179586\n"
     ]
    },
    {
     "data": {
      "image/png": "[encoded data removed]",
      "text/plain": [
       "<Figure size 432x288 with 1 Axes>"
      ]
     },
     "metadata": {
      "needs_background": "light"
     },
     "output_type": "display_data"
    }
   ],
   "source": [
    "\n",
    "theta = 0\n",
    "\n",
    "for i in range(0, 21):\n",
    "    nx = 100\n",
    "    ny = 100\n",
    "    x = np.linspace(-1, 1, nx)\n",
    "    y = np.linspace(-1, 1, ny)\n",
    "    X, Y = np.meshgrid(x, y)\n",
    "    f = 4 # frequency – you may change this later.\n",
    "    Z = np.sin(2*np.pi*f*(Y*np.sin(theta) + X*np.cos(theta)))\n",
    "    \n",
    "    print(theta)\n",
    "    plt.imshow(Z, cmap='gray')\n",
    "    plt.savefig(f\"rotation_frames/synthetic_sine/synthetic_sine_0{i}.jpg\")\n",
    "    #plt.show()\n",
    "\n",
    "    \n",
    "    Z_fft = np.fft.fft2(Z)\n",
    "    Z_fft_shifted = np.fft.fftshift(Z_fft)\n",
    "    Z_fft_mag = np.abs(Z_fft_shifted)\n",
    "\n",
    "    plt.imshow(Z_fft_mag, cmap='gray')\n",
    "    plt.savefig(f\"rotation_frames/synthetic_fft/synthetic_fft_0{i}.jpg\")\n",
    "    #plt.show()\n",
    "    \n",
    "    theta += (2*np.pi)/20\n",
    "    "
   ]
  },
  {
   "cell_type": "code",
   "execution_count": 60,
   "id": "3e2a2aed-6376-4769-8585-f00c4c7a7ddd",
   "metadata": {},
   "outputs": [],
   "source": [
    "import os\n",
    "import imageio\n",
    "\n",
    "# using a raw string\n",
    "directory = r\"C:\\Users\\Lyle\\Desktop\\Computation and Modelling\\image-processing\\rotation_frames\\synthetic_fft\"\n",
    "\n",
    "\n",
    "# create a list of image file names in the directory\n",
    "image_files = os.listdir(directory)\n",
    "\n",
    "# sort the list of image file names to ensure proper ordering in the GIF\n",
    "image_files.sort()\n",
    "\n",
    "# define the output GIF file name\n",
    "output_file = \"synthetic_fft.gif\"\n",
    "\n",
    "# create a list to store the image file paths\n",
    "image_paths = []\n",
    "\n",
    "# iterate over the list of image file names and add the file path to image_paths\n",
    "for filename in image_files:\n",
    "    if filename.endswith(\".jpg\"):\n",
    "        image_paths.append(os.path.join(directory, filename))\n",
    "\n",
    "# create the GIF from the list of image file paths\n",
    "with imageio.get_writer(output_file, mode=\"I\") as writer:\n",
    "    for image_path in image_paths:\n",
    "        # read the image in RGBA format\n",
    "        image = imageio.imread(image_path, pilmode=\"RGBA\")\n",
    "        # set the alpha channel to 255 (fully opaque)\n",
    "        alpha = image[:, :, 3]\n",
    "        alpha[alpha != 0] = 255\n",
    "        image[:, :, 3] = alpha\n",
    "        # append the image to the GIF\n",
    "        writer.append_data(image)\n"
   ]
  },
  {
   "cell_type": "code",
   "execution_count": 61,
   "id": "13ed4a4f-4aeb-4ae2-a622-8325fb99da1a",
   "metadata": {},
   "outputs": [],
   "source": [
    "import os\n",
    "import imageio\n",
    "\n",
    "# using a raw string\n",
    "directory = r\"C:\\Users\\Lyle\\Desktop\\Computation and Modelling\\image-processing\\rotation_frames\\synthetic_sine\"\n",
    "\n",
    "\n",
    "# create a list of image file names in the directory\n",
    "image_files = os.listdir(directory)\n",
    "\n",
    "# sort the list of image file names to ensure proper ordering in the GIF\n",
    "image_files.sort()\n",
    "\n",
    "# define the output GIF file name\n",
    "output_file = \"synthetic_sine.gif\"\n",
    "\n",
    "# create a list to store the image file paths\n",
    "image_paths = []\n",
    "\n",
    "# iterate over the list of image file names and add the file path to image_paths\n",
    "for filename in image_files:\n",
    "    if filename.endswith(\".jpg\"):\n",
    "        image_paths.append(os.path.join(directory, filename))\n",
    "\n",
    "# create the GIF from the list of image file paths\n",
    "with imageio.get_writer(output_file, mode=\"I\") as writer:\n",
    "    for image_path in image_paths:\n",
    "        # read the image in RGBA format\n",
    "        image = imageio.imread(image_path, pilmode=\"RGBA\")\n",
    "        # set the alpha channel to 255 (fully opaque)\n",
    "        alpha = image[:, :, 3]\n",
    "        alpha[alpha != 0] = 255\n",
    "        image[:, :, 3] = alpha\n",
    "        # append the image to the GIF\n",
    "        writer.append_data(image)\n"
   ]
  },
  {
   "cell_type": "code",
   "execution_count": 56,
   "id": "82984934-aef0-4457-bdda-ecde24ea58d2",
   "metadata": {},
   "outputs": [
    {
     "name": "stdout",
     "output_type": "stream",
     "text": [
      "6.5973445725385655\n"
     ]
    },
    {
     "data": {
      "image/png": "[encoded data removed]",
      "text/plain": [
       "<Figure size 432x288 with 1 Axes>"
      ]
     },
     "metadata": {
      "needs_background": "light"
     },
     "output_type": "display_data"
    },
    {
     "data": {
      "image/png": "[encoded data removed]",
      "text/plain": [
       "<Figure size 432x288 with 1 Axes>"
      ]
     },
     "metadata": {
      "needs_background": "light"
     },
     "output_type": "display_data"
    }
   ],
   "source": [
    "\n",
    "nx = 100\n",
    "ny = 100\n",
    "x = np.linspace(-1, 1, nx)\n",
    "y = np.linspace(-1, 1, ny)\n",
    "X, Y = np.meshgrid(x, y)\n",
    "f = 4 # frequency – you may change this later.\n",
    "Z = np.sin(2*np.pi*f*X) +  np.sin(2*np.pi*f*Y)\n",
    "\n",
    "\n",
    "\n",
    "print(theta)\n",
    "plt.imshow(Z, cmap='gray')\n",
    "#plt.savefig(f\"rotation_frames/synthetic_sine/synthetic_sine_0{i}.jpg\")\n",
    "plt.show()\n",
    "\n",
    "\n",
    "Z_fft = np.fft.fft2(Z)\n",
    "Z_fft_shifted = np.fft.fftshift(Z_fft)\n",
    "Z_fft_mag = np.abs(Z_fft_shifted)\n",
    "\n",
    "plt.imshow(Z_fft_mag, cmap='gray')\n",
    "# plt.savefig(f\"rotation_frames/synthetic_fft/synthetic_fft_0{i}.jpg\")\n",
    "plt.show()\n",
    "\n"
   ]
  },
  {
   "cell_type": "code",
   "execution_count": null,
   "id": "f3d1d85c-71b1-4d97-81be-5700b993d9c8",
   "metadata": {},
   "outputs": [],
   "source": [
    "\n",
    "theta = 0\n",
    "\n",
    "for i in range(0, 21):\n",
    "    nx = 100\n",
    "    ny = 100\n",
    "    x = np.linspace(-1, 1, nx)\n",
    "    y = np.linspace(-1, 1, ny)\n",
    "    X, Y = np.meshgrid(x, y)\n",
    "    f = 4 # frequency – you may change this later.\n",
    "    Z = np.sin(2*np.pi*f*(Y*np.sin(theta) + X*np.cos(theta)))\n",
    "    \n",
    "    print(theta)\n",
    "    plt.imshow(Z, cmap='gray')\n",
    "    plt.savefig(f\"rotation_frames/synthetic_sine/synthetic_sine_0{i}.jpg\")\n",
    "    #plt.show()\n",
    "\n",
    "    \n",
    "    Z_fft = np.fft.fft2(Z)\n",
    "    Z_fft_shifted = np.fft.fftshift(Z_fft)\n",
    "    Z_fft_mag = np.abs(Z_fft_shifted)\n",
    "\n",
    "    plt.imshow(Z_fft_mag, cmap='gray')\n",
    "    plt.savefig(f\"rotation_frames/synthetic_fft/synthetic_fft_0{i}.jpg\")\n",
    "    #plt.show()\n",
    "    \n",
    "    theta += (2*np.pi)/20\n",
    "    "
   ]
  },
  {
   "cell_type": "code",
   "execution_count": 66,
   "id": "a212bcfb-5117-4823-b89c-681013cd4feb",
   "metadata": {},
   "outputs": [
    {
     "name": "stdout",
     "output_type": "stream",
     "text": [
      "0\n",
      "0.3141592653589793\n",
      "0.6283185307179586\n",
      "0.9424777960769379\n",
      "1.2566370614359172\n",
      "1.5707963267948966\n",
      "1.8849555921538759\n",
      "2.199114857512855\n",
      "2.5132741228718345\n",
      "2.827433388230814\n",
      "3.141592653589793\n",
      "3.4557519189487724\n",
      "3.7699111843077517\n",
      "4.084070449666731\n",
      "4.39822971502571\n",
      "4.71238898038469\n",
      "5.026548245743669\n",
      "5.340707511102648\n",
      "5.654866776461628\n",
      "5.969026041820607\n",
      "6.283185307179586\n",
      "0\n",
      "0.3141592653589793\n",
      "0.6283185307179586\n",
      "0.9424777960769379\n",
      "1.2566370614359172\n",
      "1.5707963267948966\n",
      "1.8849555921538759\n",
      "2.199114857512855\n",
      "2.5132741228718345\n",
      "2.827433388230814\n",
      "3.141592653589793\n",
      "3.4557519189487724\n",
      "3.7699111843077517\n",
      "4.084070449666731\n",
      "4.39822971502571\n",
      "4.71238898038469\n",
      "5.026548245743669\n",
      "5.340707511102648\n",
      "5.654866776461628\n",
      "5.969026041820607\n",
      "6.283185307179586\n"
     ]
    },
    {
     "data": {
      "image/png": "[encoded data removed]",
      "text/plain": [
       "<Figure size 432x288 with 1 Axes>"
      ]
     },
     "metadata": {
      "needs_background": "light"
     },
     "output_type": "display_data"
    }
   ],
   "source": [
    "\n",
    "theta_x = 0\n",
    "theta_y = 0\n",
    "\n",
    "for i in range(0, 21):\n",
    "    nx = 100\n",
    "    ny = 100\n",
    "    x = np.linspace(-1, 1, nx)\n",
    "    y = np.linspace(-1, 1, ny)\n",
    "    X, Y = np.meshgrid(x, y)\n",
    "    f = 4 # frequency – you may change this later.\n",
    "    Z = np.sin(2*np.pi*f*(Y*np.sin(theta_x) + X*np.cos(theta_y)))\n",
    "\n",
    "\n",
    "    print(theta_x)\n",
    "    plt.imshow(Z, cmap='gray')\n",
    "    plt.savefig(f\"rotation_frames/two_wave_x/2wx_sine_0{i}.jpg\")\n",
    "    #plt.show()\n",
    "\n",
    "    \n",
    "    Z_fft = np.fft.fft2(Z)\n",
    "    Z_fft_shifted = np.fft.fftshift(Z_fft)\n",
    "    Z_fft_mag = np.abs(Z_fft_shifted)\n",
    "\n",
    "    plt.imshow(Z_fft_mag, cmap='gray')\n",
    "    plt.savefig(f\"rotation_frames/two_wave_x_fft/2wx_fft_0{i}.jpg\")\n",
    "    #plt.show()\n",
    "    \n",
    "    theta_x += (2*np.pi)/20\n",
    "    \n",
    "    \n",
    "for i in range(0, 21):\n",
    "    nx = 100\n",
    "    ny = 100\n",
    "    x = np.linspace(-1, 1, nx)\n",
    "    y = np.linspace(-1, 1, ny)\n",
    "    X, Y = np.meshgrid(x, y)\n",
    "    f = 4 # frequency – you may change this later.\n",
    "    Z = np.sin(2*np.pi*f*(Y*np.sin(theta_x) + X*np.cos(theta_y)))\n",
    "\n",
    "    \n",
    "    print(theta_y)\n",
    "    plt.imshow(Z, cmap='gray')\n",
    "    plt.savefig(f\"rotation_frames/two_wave_y/2wy_sine_0{i}.jpg\")\n",
    "    #plt.show()\n",
    "\n",
    "    \n",
    "    Z_fft = np.fft.fft2(Z)\n",
    "    Z_fft_shifted = np.fft.fftshift(Z_fft)\n",
    "    Z_fft_mag = np.abs(Z_fft_shifted)\n",
    "\n",
    "    plt.imshow(Z_fft_mag, cmap='gray')\n",
    "    plt.savefig(f\"rotation_frames/two_wave_y_fft/2wy_fft_0{i}.jpg\")\n",
    "    #plt.show()\n",
    "    \n",
    "    theta_y += (2*np.pi)/20\n",
    "    \n",
    "    "
   ]
  },
  {
   "cell_type": "code",
   "execution_count": null,
   "id": "a125fb0a-e90d-4c10-9064-46c8fe5e9ea0",
   "metadata": {},
   "outputs": [],
   "source": []
  },
  {
   "cell_type": "code",
   "execution_count": 67,
   "id": "eaf19f31-92b1-4302-9390-7f3aea53f890",
   "metadata": {},
   "outputs": [],
   "source": [
    "import os\n",
    "import imageio\n",
    "\n",
    "# using a raw string\n",
    "directory = r\"C:\\Users\\Lyle\\Desktop\\Computation and Modelling\\image-processing\\rotation_frames\\two_wave_x\"\n",
    "\n",
    "\n",
    "# create a list of image file names in the directory\n",
    "image_files = os.listdir(directory)\n",
    "\n",
    "# sort the list of image file names to ensure proper ordering in the GIF\n",
    "image_files.sort()\n",
    "\n",
    "# define the output GIF file name\n",
    "output_file = \"two_wave_x.gif\"\n",
    "\n",
    "# create a list to store the image file paths\n",
    "image_paths = []\n",
    "\n",
    "# iterate over the list of image file names and add the file path to image_paths\n",
    "for filename in image_files:\n",
    "    if filename.endswith(\".jpg\"):\n",
    "        image_paths.append(os.path.join(directory, filename))\n",
    "\n",
    "# create the GIF from the list of image file paths\n",
    "with imageio.get_writer(output_file, mode=\"I\") as writer:\n",
    "    for image_path in image_paths:\n",
    "        # read the image in RGBA format\n",
    "        image = imageio.imread(image_path, pilmode=\"RGBA\")\n",
    "        # set the alpha channel to 255 (fully opaque)\n",
    "        alpha = image[:, :, 3]\n",
    "        alpha[alpha != 0] = 255\n",
    "        image[:, :, 3] = alpha\n",
    "        # append the image to the GIF\n",
    "        writer.append_data(image)\n"
   ]
  },
  {
   "cell_type": "code",
   "execution_count": 68,
   "id": "c3bc3688-903c-44e0-b063-b49e31c10cca",
   "metadata": {},
   "outputs": [],
   "source": [
    "import os\n",
    "import imageio\n",
    "\n",
    "# using a raw string\n",
    "directory = r\"C:\\Users\\Lyle\\Desktop\\Computation and Modelling\\image-processing\\rotation_frames\\two_wave_x_fft\"\n",
    "\n",
    "\n",
    "# create a list of image file names in the directory\n",
    "image_files = os.listdir(directory)\n",
    "\n",
    "# sort the list of image file names to ensure proper ordering in the GIF\n",
    "image_files.sort()\n",
    "\n",
    "# define the output GIF file name\n",
    "output_file = \"two_wave_x_fft.gif\"\n",
    "\n",
    "# create a list to store the image file paths\n",
    "image_paths = []\n",
    "\n",
    "# iterate over the list of image file names and add the file path to image_paths\n",
    "for filename in image_files:\n",
    "    if filename.endswith(\".jpg\"):\n",
    "        image_paths.append(os.path.join(directory, filename))\n",
    "\n",
    "# create the GIF from the list of image file paths\n",
    "with imageio.get_writer(output_file, mode=\"I\") as writer:\n",
    "    for image_path in image_paths:\n",
    "        # read the image in RGBA format\n",
    "        image = imageio.imread(image_path, pilmode=\"RGBA\")\n",
    "        # set the alpha channel to 255 (fully opaque)\n",
    "        alpha = image[:, :, 3]\n",
    "        alpha[alpha != 0] = 255\n",
    "        image[:, :, 3] = alpha\n",
    "        # append the image to the GIF\n",
    "        writer.append_data(image)\n"
   ]
  },
  {
   "cell_type": "code",
   "execution_count": 69,
   "id": "b66cf164-8d42-4277-9cd9-1769e026f07b",
   "metadata": {},
   "outputs": [],
   "source": [
    "import os\n",
    "import imageio\n",
    "\n",
    "# using a raw string\n",
    "directory = r\"C:\\Users\\Lyle\\Desktop\\Computation and Modelling\\image-processing\\rotation_frames\\two_wave_y\"\n",
    "\n",
    "\n",
    "# create a list of image file names in the directory\n",
    "image_files = os.listdir(directory)\n",
    "\n",
    "# sort the list of image file names to ensure proper ordering in the GIF\n",
    "image_files.sort()\n",
    "\n",
    "# define the output GIF file name\n",
    "output_file = \"two_wave_y.gif\"\n",
    "\n",
    "# create a list to store the image file paths\n",
    "image_paths = []\n",
    "\n",
    "# iterate over the list of image file names and add the file path to image_paths\n",
    "for filename in image_files:\n",
    "    if filename.endswith(\".jpg\"):\n",
    "        image_paths.append(os.path.join(directory, filename))\n",
    "\n",
    "# create the GIF from the list of image file paths\n",
    "with imageio.get_writer(output_file, mode=\"I\") as writer:\n",
    "    for image_path in image_paths:\n",
    "        # read the image in RGBA format\n",
    "        image = imageio.imread(image_path, pilmode=\"RGBA\")\n",
    "        # set the alpha channel to 255 (fully opaque)\n",
    "        alpha = image[:, :, 3]\n",
    "        alpha[alpha != 0] = 255\n",
    "        image[:, :, 3] = alpha\n",
    "        # append the image to the GIF\n",
    "        writer.append_data(image)\n"
   ]
  },
  {
   "cell_type": "code",
   "execution_count": 70,
   "id": "cc50fc0b-0339-47d0-b7a6-4170c94e77cd",
   "metadata": {},
   "outputs": [],
   "source": [
    "import os\n",
    "import imageio\n",
    "\n",
    "# using a raw string\n",
    "directory = r\"C:\\Users\\Lyle\\Desktop\\Computation and Modelling\\image-processing\\rotation_frames\\two_wave_y_fft\"\n",
    "\n",
    "\n",
    "# create a list of image file names in the directory\n",
    "image_files = os.listdir(directory)\n",
    "\n",
    "# sort the list of image file names to ensure proper ordering in the GIF\n",
    "image_files.sort()\n",
    "\n",
    "# define the output GIF file name\n",
    "output_file = \"two_wave_y_fft.gif\"\n",
    "\n",
    "# create a list to store the image file paths\n",
    "image_paths = []\n",
    "\n",
    "# iterate over the list of image file names and add the file path to image_paths\n",
    "for filename in image_files:\n",
    "    if filename.endswith(\".jpg\"):\n",
    "        image_paths.append(os.path.join(directory, filename))\n",
    "\n",
    "# create the GIF from the list of image file paths\n",
    "with imageio.get_writer(output_file, mode=\"I\") as writer:\n",
    "    for image_path in image_paths:\n",
    "        # read the image in RGBA format\n",
    "        image = imageio.imread(image_path, pilmode=\"RGBA\")\n",
    "        # set the alpha channel to 255 (fully opaque)\n",
    "        alpha = image[:, :, 3]\n",
    "        alpha[alpha != 0] = 255\n",
    "        image[:, :, 3] = alpha\n",
    "        # append the image to the GIF\n",
    "        writer.append_data(image)\n"
   ]
  },
  {
   "cell_type": "code",
   "execution_count": null,
   "id": "eff73008-d7ee-49a6-b516-f00bab98d6d7",
   "metadata": {},
   "outputs": [],
   "source": []
  }
 ],
 "metadata": {
  "kernelspec": {
   "display_name": "Python 3 (ipykernel)",
   "language": "python",
   "name": "python3"
  },
  "language_info": {
   "codemirror_mode": {
    "name": "ipython",
    "version": 3
   },
   "file_extension": ".py",
   "mimetype": "text/x-python",
   "name": "python",
   "nbconvert_exporter": "python",
   "pygments_lexer": "ipython3",
   "version": "3.9.12"
  }
 },
 "nbformat": 4,
 "nbformat_minor": 5
}
