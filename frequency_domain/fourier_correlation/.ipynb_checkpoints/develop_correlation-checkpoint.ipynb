{
 "cells": [
  {
   "cell_type": "code",
   "execution_count": null,
   "id": "59649c22-7215-4f5b-9a0b-a2dcaa09deed",
   "metadata": {},
   "outputs": [],
   "source": [
    "import cv2\n",
    "import numpy as np\n",
    "\n",
    "def fft_multiply(image_a, image_b):\n",
    "    # Get the FFT2 of both images\n",
    "    fft_a = np.fft.fft2(image_a)\n",
    "    fft_b = np.fft.fft2(image_b)\n",
    "\n",
    "    # Multiply the complex conjugate of FFT2(A) with FFT2(B)\n",
    "    fft_result = np.conj(fft_a) * fft_b\n",
    "\n",
    "    # Get the inverse FFT of the result and display as abs()\n",
    "    result = np.abs(np.fft.ifft2(fft_result))\n",
    "\n",
    "    # Normalize the result to a range of [0, 255] for display\n",
    "    result = cv2.normalize(result, None, 0, 255, cv2.NORM_MINMAX, cv2.CV_8U)\n"
   ]
  },
  {
   "cell_type": "code",
   "execution_count": null,
   "id": "766c1d0d-d718-4af4-a3cf-80ccd1f80855",
   "metadata": {},
   "outputs": [],
   "source": []
  }
 ],
 "metadata": {
  "kernelspec": {
   "display_name": "Python 3 (ipykernel)",
   "language": "python",
   "name": "python3"
  },
  "language_info": {
   "codemirror_mode": {
    "name": "ipython",
    "version": 3
   },
   "file_extension": ".py",
   "mimetype": "text/x-python",
   "name": "python",
   "nbconvert_exporter": "python",
   "pygments_lexer": "ipython3",
   "version": "3.9.12"
  }
 },
 "nbformat": 4,
 "nbformat_minor": 5
}
