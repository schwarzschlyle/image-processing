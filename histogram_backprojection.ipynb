{
 "cells": [
  {
   "cell_type": "markdown",
   "id": "8468e1fe",
   "metadata": {},
   "source": [
    "# Histogram Backprojection on Grayscale"
   ]
  },
  {
   "cell_type": "code",
   "execution_count": 1,
   "id": "17652396",
   "metadata": {},
   "outputs": [
    {
     "ename": "IndentationError",
     "evalue": "expected an indented block (890580611.py, line 15)",
     "output_type": "error",
     "traceback": [
      "\u001b[1;36m  Cell \u001b[1;32mIn [1], line 15\u001b[1;36m\u001b[0m\n\u001b[1;33m    for c in range(image.shape[2]):\u001b[0m\n\u001b[1;37m    ^\u001b[0m\n\u001b[1;31mIndentationError\u001b[0m\u001b[1;31m:\u001b[0m expected an indented block\n"
     ]
    }
   ],
   "source": [
    "#import required packages\n",
    "import cv2\n",
    "import numpy as np\n",
    "#Read image\n",
    "image = cv2.imread(\"dark_image.png\")\n",
    "#Create a dummy image that stores different contrast and\n",
    "brightness\n",
    "new_image = np.zeros(image.shape, image.dtype)\n",
    "#Brightness and contrast parameters\n",
    "contrast = 3.0\n",
    "bright = 2\n",
    "#Change the contrast and brightness\n",
    "for y in range(image.shape[0]):\n",
    " for x in range(image.shape[1]):\n",
    " for c in range(image.shape[2]):\n",
    " new_image[y,x,c] = np.clip(contrast*image[y,x,c] +\n",
    "bright, 0, 255)"
   ]
  },
  {
   "cell_type": "code",
   "execution_count": null,
   "id": "be8f48ca",
   "metadata": {},
   "outputs": [],
   "source": []
  }
 ],
 "metadata": {
  "kernelspec": {
   "display_name": "Python 3 (ipykernel)",
   "language": "python",
   "name": "python3"
  },
  "language_info": {
   "codemirror_mode": {
    "name": "ipython",
    "version": 3
   },
   "file_extension": ".py",
   "mimetype": "text/x-python",
   "name": "python",
   "nbconvert_exporter": "python",
   "pygments_lexer": "ipython3",
   "version": "3.9.12"
  }
 },
 "nbformat": 4,
 "nbformat_minor": 5
}
